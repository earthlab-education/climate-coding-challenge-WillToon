{
  "cells": [
    {
      "cell_type": "markdown",
      "id": "119cd76e-c680-48f9-85e7-bae0c2a348d3",
      "metadata": {},
      "source": [
        "# Climate Coding Challenge, Part 1: Overview\n",
        "\n",
        "Higher highs, lower lows, storms, and smoke – we’re all feeling the\n",
        "effects of climate change. In this workflow, you will take a look at\n",
        "trends in temperature over time in Boulder, CO.\n",
        "\n",
        "## What the fork?! Who wrote this?\n",
        "\n",
        "Below is a scientific Python workflow. But something’s wrong – The code\n",
        "won’t run! Your task is to follow the instructions below to **clean and\n",
        "debug** the Python code below so that it runs.\n",
        "\n",
        "> **Tip**\n",
        ">\n",
        "> Don’t worry if you can’t solve every bug right away. We’ll get there!\n",
        "> If you are working on one bug for more than about 10 minutes, it’s\n",
        "> time to ask for help.\n",
        "\n",
        "At the end, you’ll **repeat the workflow** for a location and\n",
        "measurement of your choosing.\n",
        "\n",
        "Alright! Let’s clean up this code."
      ]
    },
    {
      "cell_type": "code",
      "execution_count": 2,
      "id": "48fab7bc",
      "metadata": {},
      "outputs": [
        {
          "data": {
            "text/plain": [
              "{'cells': [{'cell_type': 'markdown',\n",
              "   'id': '119cd76e-c680-48f9-85e7-bae0c2a348d3',\n",
              "   'metadata': {},\n",
              "   'source': ['# Climate Coding Challenge, Part 1: Overview\\n',\n",
              "    '\\n',\n",
              "    'Higher highs, lower lows, storms, and smoke – we’re all feeling the\\n',\n",
              "    'effects of climate change. In this workflow, you will take a look at\\n',\n",
              "    'trends in temperature over time in Boulder, CO.\\n',\n",
              "    '\\n',\n",
              "    '## What the fork?! Who wrote this?\\n',\n",
              "    '\\n',\n",
              "    'Below is a scientific Python workflow. But something’s wrong – The code\\n',\n",
              "    'won’t run! Your task is to follow the instructions below to **clean and\\n',\n",
              "    'debug** the Python code below so that it runs.\\n',\n",
              "    '\\n',\n",
              "    '> **Tip**\\n',\n",
              "    '>\\n',\n",
              "    '> Don’t worry if you can’t solve every bug right away. We’ll get there!\\n',\n",
              "    '> If you are working on one bug for more than about 10 minutes, it’s\\n',\n",
              "    '> time to ask for help.\\n',\n",
              "    '\\n',\n",
              "    'At the end, you’ll **repeat the workflow** for a location and\\n',\n",
              "    'measurement of your choosing.\\n',\n",
              "    '\\n',\n",
              "    'Alright! Let’s clean up this code.']}],\n",
              " 'metadata': {'kernelspec': {'display_name': 'Python 3',\n",
              "   'language': 'python',\n",
              "   'name': 'python3'}},\n",
              " 'nbformat': 4,\n",
              " 'nbformat_minor': 5}"
            ]
          },
          "execution_count": 2,
          "metadata": {},
          "output_type": "execute_result"
        }
      ],
      "source": [
        "{\n",
        "  \"cells\": [\n",
        "    {\n",
        "      \"cell_type\": \"markdown\",\n",
        "      \"id\": \"119cd76e-c680-48f9-85e7-bae0c2a348d3\",\n",
        "      \"metadata\": {},\n",
        "      \"source\": [\n",
        "        \"# Climate Coding Challenge, Part 1: Overview\\n\",\n",
        "        \"\\n\",\n",
        "        \"Higher highs, lower lows, storms, and smoke – we’re all feeling the\\n\",\n",
        "        \"effects of climate change. In this workflow, you will take a look at\\n\",\n",
        "        \"trends in temperature over time in Boulder, CO.\\n\",\n",
        "        \"\\n\",\n",
        "        \"## What the fork?! Who wrote this?\\n\",\n",
        "        \"\\n\",\n",
        "        \"Below is a scientific Python workflow. But something’s wrong – The code\\n\",\n",
        "        \"won’t run! Your task is to follow the instructions below to **clean and\\n\",\n",
        "        \"debug** the Python code below so that it runs.\\n\",\n",
        "        \"\\n\",\n",
        "        \"> **Tip**\\n\",\n",
        "        \">\\n\",\n",
        "        \"> Don’t worry if you can’t solve every bug right away. We’ll get there!\\n\",\n",
        "        \"> If you are working on one bug for more than about 10 minutes, it’s\\n\",\n",
        "        \"> time to ask for help.\\n\",\n",
        "        \"\\n\",\n",
        "        \"At the end, you’ll **repeat the workflow** for a location and\\n\",\n",
        "        \"measurement of your choosing.\\n\",\n",
        "        \"\\n\",\n",
        "        \"Alright! Let’s clean up this code.\"\n",
        "      ]\n",
        "    }\n",
        "  ],\n",
        "  \"metadata\": {\n",
        "    \"kernelspec\": {\n",
        "      \"display_name\": \"Python 3\",\n",
        "      \"language\": \"python\",\n",
        "      \"name\": \"python3\"\n",
        "    }\n",
        "  },\n",
        "  \"nbformat\": 4,\n",
        "  \"nbformat_minor\": 5\n",
        "}\n"
      ]
    }
  ],
  "metadata": {
    "kernelspec": {
      "display_name": "Python 3",
      "language": "python",
      "name": "python3"
    },
    "language_info": {
      "codemirror_mode": {
        "name": "ipython",
        "version": 3
      },
      "file_extension": ".py",
      "mimetype": "text/x-python",
      "name": "python",
      "nbconvert_exporter": "python",
      "pygments_lexer": "ipython3",
      "version": "3.10.11"
    }
  },
  "nbformat": 4,
  "nbformat_minor": 5
}
